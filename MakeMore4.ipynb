{
  "nbformat": 4,
  "nbformat_minor": 0,
  "metadata": {
    "colab": {
      "provenance": [],
      "authorship_tag": "ABX9TyNSC53hPhqkCRDpiEZecTol",
      "include_colab_link": true
    },
    "kernelspec": {
      "name": "python3",
      "display_name": "Python 3"
    },
    "language_info": {
      "name": "python"
    }
  },
  "cells": [
    {
      "cell_type": "markdown",
      "metadata": {
        "id": "view-in-github",
        "colab_type": "text"
      },
      "source": [
        "<a href=\"https://colab.research.google.com/github/Agil0509/NLP/blob/main/MakeMore4.ipynb\" target=\"_parent\"><img src=\"https://colab.research.google.com/assets/colab-badge.svg\" alt=\"Open In Colab\"/></a>"
      ]
    },
    {
      "cell_type": "code",
      "execution_count": null,
      "metadata": {
        "id": "mtIg9xxiquf0"
      },
      "outputs": [],
      "source": [
        "import torch\n",
        "import torch.nn.functional as F\n",
        "import matplotlib.pyplot as plt"
      ]
    },
    {
      "cell_type": "code",
      "source": [
        "words = open('/content/names.txt','r').read().splitlines()\n",
        "print(len(words))\n",
        "print(max(len(w) for w in words))\n",
        "print(words[:8])"
      ],
      "metadata": {
        "colab": {
          "base_uri": "https://localhost:8080/"
        },
        "id": "-tcvduT_q6CO",
        "outputId": "2baf96da-aa5e-42ee-dd0b-1985998fb9f9"
      },
      "execution_count": null,
      "outputs": [
        {
          "output_type": "stream",
          "name": "stdout",
          "text": [
            "32033\n",
            "15\n",
            "['emma', 'olivia', 'ava', 'isabella', 'sophia', 'charlotte', 'mia', 'amelia']\n"
          ]
        }
      ]
    },
    {
      "cell_type": "code",
      "source": [
        "chars = sorted(set(''.join(words)))\n",
        "stoi = {s: i+1 for i,s in enumerate(chars)}\n",
        "\n",
        "stoi['.'] = 0\n",
        "itos = {i: s for s,i in stoi.items()}\n",
        "vocab_size = len(itos)\n",
        "print(itos)\n",
        "print(vocab_size)"
      ],
      "metadata": {
        "id": "11pMg4QdrQf-",
        "colab": {
          "base_uri": "https://localhost:8080/"
        },
        "outputId": "310e83ab-2d1e-4eee-824c-66dc6fe3208c"
      },
      "execution_count": null,
      "outputs": [
        {
          "output_type": "stream",
          "name": "stdout",
          "text": [
            "{1: 'a', 2: 'b', 3: 'c', 4: 'd', 5: 'e', 6: 'f', 7: 'g', 8: 'h', 9: 'i', 10: 'j', 11: 'k', 12: 'l', 13: 'm', 14: 'n', 15: 'o', 16: 'p', 17: 'q', 18: 'r', 19: 's', 20: 't', 21: 'u', 22: 'v', 23: 'w', 24: 'x', 25: 'y', 26: 'z', 0: '.'}\n",
            "27\n"
          ]
        }
      ]
    },
    {
      "cell_type": "code",
      "source": [
        "block_size= 3\n",
        "def build_dataset(words):\n",
        "  X,Y = [],[]\n",
        "\n",
        "  for w in words:\n",
        "    context = [0]*block_size\n",
        "    for ch in w+'.':\n",
        "      ix = stoi[ch]\n",
        "      X.append(context)\n",
        "      Y.append(ix)\n",
        "      context = context[1:]+[ix]\n",
        "\n",
        "  X = torch.tensor(X)\n",
        "  Y = torch.tensor(Y)\n",
        "  print(X.shape,Y.shape)\n",
        "  return X,Y\n",
        "\n",
        "import random\n",
        "random.seed(42)\n",
        "random.shuffle(words)\n",
        "n1 = int(0.8*(len(words)))\n",
        "n2 = int(0.9*(len(words)))\n",
        "\n",
        "Xtr, Ytr = build_dataset(words[:n1])\n",
        "Xdex, Ydev = build_dataset(words[n1:n2])\n",
        "Xte, Yte = build_dataset(words[n2:])"
      ],
      "metadata": {
        "id": "2JLfc4G2rlnU",
        "colab": {
          "base_uri": "https://localhost:8080/"
        },
        "outputId": "59488e71-0d70-47de-dc3e-65a056780bec"
      },
      "execution_count": null,
      "outputs": [
        {
          "output_type": "stream",
          "name": "stdout",
          "text": [
            "torch.Size([182625, 3]) torch.Size([182625])\n",
            "torch.Size([22655, 3]) torch.Size([22655])\n",
            "torch.Size([22866, 3]) torch.Size([22866])\n"
          ]
        }
      ]
    },
    {
      "cell_type": "code",
      "source": [
        "def cmp(s,dt,t):\n",
        "  ex = torch.all(dt ==t.grad).item()\n",
        "  app = torch.allclose(dt,t.grad)\n",
        "  maxdiff = (dt-t.grad).abs().max().item()\n",
        "  print(f'{s:15s} | exact:{str(ex):5s} | approximate:{str(app):5s} | maxdiff:{maxdiff}')"
      ],
      "metadata": {
        "id": "N2TP6P6js0Et"
      },
      "execution_count": null,
      "outputs": []
    },
    {
      "cell_type": "code",
      "source": [
        "n_embd =10\n",
        "n_hidden = 64\n",
        "\n",
        "g = torch.Generator().manual_seed(42)\n",
        "C = torch.rand((vocab_size,n_embd))\n",
        "\n",
        "W1 = torch.randn((n_embd*block_size, n_hidden),generator = g)*(5/3)/((n_embd*block_size)**0.5)\n",
        "b1 = torch.randn(n_hidden,generator = g)*0.1\n",
        "\n",
        "W2 = torch.randn((n_hidden,vocab_size),generator = g)*0.1\n",
        "b2 = torch.randn(vocab_size,generator = g)*0.1\n",
        "\n",
        "bngain = torch.randn((1,n_hidden))*0.1 + 0.1\n",
        "bnbias = torch.randn((1,n_hidden))*0.1\n",
        "\n",
        "parameters = [C,W1,b1,W2,b2,bngain,bnbias]\n",
        "print(sum(p.nelement()for p in parameters))\n",
        "for p in parameters:\n",
        "    p.requires_grad = True"
      ],
      "metadata": {
        "id": "t_zXUljkuLhx",
        "colab": {
          "base_uri": "https://localhost:8080/"
        },
        "outputId": "843ef8b4-f0e7-455c-8b25-a1eec6b600ea"
      },
      "execution_count": null,
      "outputs": [
        {
          "output_type": "stream",
          "name": "stdout",
          "text": [
            "4137\n"
          ]
        }
      ]
    },
    {
      "cell_type": "code",
      "source": [
        "batch_size = 32\n",
        "n = batch_size\n",
        "ix = torch.randint(0,Xtr.shape[0],(batch_size,),generator = g)\n",
        "Xb,Yb = Xtr[ix],Ytr[ix]"
      ],
      "metadata": {
        "id": "SLXVTlC8wVEx"
      },
      "execution_count": null,
      "outputs": []
    },
    {
      "cell_type": "code",
      "source": [
        "emb = C[Xb] # embed the characters into vectors\n",
        "embcat = emb.view(emb.shape[0], -1) # concatenate the vectors\n",
        "# Linear layer 1\n",
        "hprebn = embcat @ W1 + b1 # hidden layer pre-activation\n",
        "# BatchNorm layer\n",
        "bnmeani = 1/n*hprebn.sum(0, keepdim=True)\n",
        "bndiff = hprebn - bnmeani\n",
        "bndiff2 = bndiff**2\n",
        "bnvar = 1/(n-1)*(bndiff2).sum(0, keepdim=True) # note: Bessel's correction (dividing by n-1, not n)\n",
        "bnvar_inv = (bnvar + 1e-5)**-0.5\n",
        "bnraw = bndiff * bnvar_inv\n",
        "hpreact = bngain * bnraw + bnbias\n",
        "# Non-linearity\n",
        "h = torch.tanh(hpreact) # hidden layer\n",
        "# Linear layer 2\n",
        "logits = h @ W2 + b2 # output layer\n",
        "# cross entropy loss (same as F.cross_entropy(logits, Yb))\n",
        "logit_maxes = logits.max(1, keepdim=True).values\n",
        "norm_logits = logits - logit_maxes # subtract max for numerical stability\n",
        "counts = norm_logits.exp()\n",
        "counts_sum = counts.sum(1, keepdims=True)\n",
        "counts_sum_inv = counts_sum**-1 # if I use (1.0 / counts_sum) instead then I can't get backprop to be bit exact...\n",
        "probs = counts * counts_sum_inv\n",
        "logprobs = probs.log()\n",
        "loss = -logprobs[range(n), Yb].mean()\n",
        "\n",
        "# PyTorch backward pass\n",
        "for p in parameters:\n",
        "  p.grad = None\n",
        "for t in [logprobs, probs, counts, counts_sum, counts_sum_inv, # afaik there is no cleaner way\n",
        "          norm_logits, logit_maxes, logits, h, hpreact, bnraw,\n",
        "         bnvar_inv, bnvar, bndiff2, bndiff, hprebn, bnmeani,\n",
        "         embcat, emb]:\n",
        "  t.retain_grad()\n",
        "loss.backward()\n",
        "loss"
      ],
      "metadata": {
        "id": "yUHkotd2wyXw",
        "colab": {
          "base_uri": "https://localhost:8080/"
        },
        "outputId": "bd892ff8-ecee-479b-b103-6e025ce2f74a"
      },
      "execution_count": null,
      "outputs": [
        {
          "output_type": "execute_result",
          "data": {
            "text/plain": [
              "tensor(3.2599, grad_fn=<NegBackward0>)"
            ]
          },
          "metadata": {},
          "execution_count": 8
        }
      ]
    },
    {
      "cell_type": "code",
      "source": [
        "bngain.shape,hpreact.shape,bnraw.shape,bnbias.shape"
      ],
      "metadata": {
        "colab": {
          "base_uri": "https://localhost:8080/"
        },
        "id": "SsXn-4FBR3aw",
        "outputId": "cdc1f4fc-9abc-4d3b-b1e8-147c596e7baf"
      },
      "execution_count": null,
      "outputs": [
        {
          "output_type": "execute_result",
          "data": {
            "text/plain": [
              "(torch.Size([1, 64]),\n",
              " torch.Size([32, 64]),\n",
              " torch.Size([32, 64]),\n",
              " torch.Size([1, 64]))"
            ]
          },
          "metadata": {},
          "execution_count": 13
        }
      ]
    },
    {
      "cell_type": "code",
      "source": [
        "dlogprobs = torch.zeros_like(logprobs)\n",
        "dlogprobs[range(n),Yb] = -1/n\n",
        "dprobs = (1.0/probs)*dlogprobs\n",
        "dcounts_sum_inv = (counts* dprobs).sum(1,keepdim = True)\n",
        "dcounts = counts_sum_inv * dprobs\n",
        "dcounts_sum = (-counts_sum**-2)*dcounts_sum_inv\n",
        "dcounts += torch.ones_like(counts)*dcounts_sum\n",
        "dnorm_logits = counts*dcounts\n",
        "dlogits =dnorm_logits.clone()\n",
        "dlogit_maxes = (-dnorm_logits).sum(1,keepdim = True)\n",
        "dlogits +=F.one_hot(logits.max(1).indices,num_classes=logits.shape[1]) * dlogit_maxes\n",
        "dh = dlogits @ W2.T\n",
        "dW2 = h.T @ dlogits\n",
        "db2 = dlogits.sum(0)\n",
        "dhpreact = (1.0 - h**2) * dh\n",
        "dbngain = (bnraw * dhpreact).sum(0, keepdim = True)\n",
        "dbnraw = bngain * dhpreact\n",
        "dbnbias = dhpreact.sum(0,keepdim = True)\n",
        "dbndiff = bnvar_inv * dbnraw\n",
        "dbnvar_inv = (bndiff * dbnraw).sum(0,keepdim = True)\n",
        "dbnvar = (-0.5 * (bnvar + 1e-5)**-1.5) * dbnvar_inv\n",
        "dbndiff2 = (1/(n-1))*torch.ones_like(bndiff2) * dbnvar\n",
        "dbndiff += (2*bndiff) * dbndiff2\n",
        "dhprebn = dbndiff.clone()\n",
        "dbnmeani = (-dbndiff).sum(0)\n",
        "dhprebn += 1.0/n * (torch.ones_like(hprebn) * dbnmeani)\n",
        "dembcat = dhprebn @ W1.T\n",
        "dW1 = embcat.T @ dhprebn\n",
        "db1 = dhprebn.sum(0)\n",
        "demb = dembcat.view(emb.shape)\n",
        "dC = torch.zeros_like(C)\n",
        "for k in range(Xb.shape[0]):\n",
        "  for j in range(Xb.shape[1]):\n",
        "    ix = Xb[k,j]\n",
        "    dC[ix] += demb[k,j]\n",
        "\n",
        "\n",
        "\n",
        "\n",
        "cmp('logprobs', dlogprobs, logprobs)\n",
        "cmp('probs', dprobs, probs)\n",
        "cmp('counts_sum_inv', dcounts_sum_inv, counts_sum_inv)\n",
        "cmp('counts', dcounts, counts)\n",
        "cmp('counts_sum', dcounts_sum, counts_sum)\n",
        "cmp('norm_logits', dnorm_logits, norm_logits)\n",
        "cmp('logit_maxes', dlogit_maxes, logit_maxes)\n",
        "cmp('logits', dlogits, logits)\n",
        "cmp('h', dh, h)\n",
        "cmp('W2', dW2, W2)\n",
        "cmp('b2', db2, b2)\n",
        "cmp('hpreact', dhpreact, hpreact)\n",
        "cmp('bngain', dbngain, bngain)\n",
        "cmp('bnbias', dbnbias, bnbias)\n",
        "cmp('bnraw', dbnraw, bnraw)\n",
        "cmp('bnvar_inv', dbnvar_inv, bnvar_inv)\n",
        "cmp('bnvar', dbnvar, bnvar)\n",
        "cmp('bndiff2', dbndiff2, bndiff2)\n",
        "cmp('bndiff', dbndiff, bndiff)\n",
        "cmp('bnmeani', dbnmeani, bnmeani)\n",
        "cmp('hprebn', dhprebn, hprebn)\n",
        "cmp('embcat', dembcat, embcat)\n",
        "cmp('W1', dW1, W1)\n",
        "cmp('b1', db1, b1)\n",
        "cmp('emb', demb, emb)\n",
        "cmp('C', dC, C)"
      ],
      "metadata": {
        "id": "n_wzROnExn03",
        "colab": {
          "base_uri": "https://localhost:8080/"
        },
        "outputId": "67857967-b507-41cd-fb2e-e3680a4b40b7"
      },
      "execution_count": null,
      "outputs": [
        {
          "output_type": "stream",
          "name": "stdout",
          "text": [
            "logprobs        | exact:True  | approximate:True  | maxdiff:0.0\n",
            "probs           | exact:True  | approximate:True  | maxdiff:0.0\n",
            "counts_sum_inv  | exact:True  | approximate:True  | maxdiff:0.0\n",
            "counts          | exact:True  | approximate:True  | maxdiff:0.0\n",
            "counts_sum      | exact:True  | approximate:True  | maxdiff:0.0\n",
            "norm_logits     | exact:True  | approximate:True  | maxdiff:0.0\n",
            "logit_maxes     | exact:True  | approximate:True  | maxdiff:0.0\n",
            "logits          | exact:True  | approximate:True  | maxdiff:0.0\n",
            "h               | exact:True  | approximate:True  | maxdiff:0.0\n",
            "W2              | exact:True  | approximate:True  | maxdiff:0.0\n",
            "b2              | exact:True  | approximate:True  | maxdiff:0.0\n",
            "hpreact         | exact:False | approximate:True  | maxdiff:4.656612873077393e-10\n",
            "bngain          | exact:False | approximate:True  | maxdiff:1.862645149230957e-09\n",
            "bnbias          | exact:False | approximate:True  | maxdiff:1.862645149230957e-09\n",
            "bnraw           | exact:False | approximate:True  | maxdiff:1.1641532182693481e-10\n",
            "bnvar_inv       | exact:False | approximate:True  | maxdiff:5.820766091346741e-11\n",
            "bnvar           | exact:False | approximate:True  | maxdiff:4.656612873077393e-10\n",
            "bndiff2         | exact:False | approximate:True  | maxdiff:1.4551915228366852e-11\n",
            "bndiff          | exact:False | approximate:True  | maxdiff:2.3283064365386963e-10\n",
            "bnmeani         | exact:False | approximate:True  | maxdiff:4.656612873077393e-10\n",
            "hprebn          | exact:False | approximate:True  | maxdiff:2.3283064365386963e-10\n",
            "embcat          | exact:False | approximate:True  | maxdiff:4.656612873077393e-10\n",
            "W1              | exact:False | approximate:True  | maxdiff:6.984919309616089e-10\n",
            "b1              | exact:False | approximate:True  | maxdiff:6.984919309616089e-10\n",
            "emb             | exact:False | approximate:True  | maxdiff:4.656612873077393e-10\n",
            "C               | exact:False | approximate:True  | maxdiff:9.313225746154785e-10\n"
          ]
        }
      ]
    },
    {
      "cell_type": "code",
      "source": [
        "dcounts.shape"
      ],
      "metadata": {
        "id": "ZOBYCn7gzP67",
        "colab": {
          "base_uri": "https://localhost:8080/"
        },
        "outputId": "d07ffbd9-6af4-4892-ca20-51fd203e5e0d"
      },
      "execution_count": null,
      "outputs": [
        {
          "output_type": "execute_result",
          "data": {
            "text/plain": [
              "torch.Size([32, 27])"
            ]
          },
          "metadata": {},
          "execution_count": 10
        }
      ]
    },
    {
      "cell_type": "code",
      "source": [],
      "metadata": {
        "id": "lns--GdX0RBX"
      },
      "execution_count": null,
      "outputs": []
    }
  ]
}