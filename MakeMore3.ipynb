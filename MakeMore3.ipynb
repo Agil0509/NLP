{
  "nbformat": 4,
  "nbformat_minor": 0,
  "metadata": {
    "colab": {
      "provenance": [],
      "authorship_tag": "ABX9TyMjw0u6uIS0QTKQRPuOAcSq",
      "include_colab_link": true
    },
    "kernelspec": {
      "name": "python3",
      "display_name": "Python 3"
    },
    "language_info": {
      "name": "python"
    }
  },
  "cells": [
    {
      "cell_type": "markdown",
      "metadata": {
        "id": "view-in-github",
        "colab_type": "text"
      },
      "source": [
        "<a href=\"https://colab.research.google.com/github/Agil0509/NLP/blob/main/MakeMore3.ipynb\" target=\"_parent\"><img src=\"https://colab.research.google.com/assets/colab-badge.svg\" alt=\"Open In Colab\"/></a>"
      ]
    },
    {
      "cell_type": "code",
      "execution_count": null,
      "metadata": {
        "id": "ZhR2NDw4kuiM"
      },
      "outputs": [],
      "source": [
        "import torch\n",
        "import torch.nn.functional as F\n",
        "import matplotlib.pyplot as plt"
      ]
    },
    {
      "cell_type": "code",
      "source": [
        "words = open('/content/names.txt','r').read().splitlines()\n",
        "words[:8]"
      ],
      "metadata": {
        "colab": {
          "base_uri": "https://localhost:8080/"
        },
        "id": "PdQORL5XlCxy",
        "outputId": "847e254b-4c0e-4f3d-fcec-7ea9fa78eae1"
      },
      "execution_count": null,
      "outputs": [
        {
          "output_type": "execute_result",
          "data": {
            "text/plain": [
              "['emma', 'olivia', 'ava', 'isabella', 'sophia', 'charlotte', 'mia', 'amelia']"
            ]
          },
          "metadata": {},
          "execution_count": 2
        }
      ]
    },
    {
      "cell_type": "code",
      "source": [
        "len(words)"
      ],
      "metadata": {
        "id": "acIt2HKflRYt",
        "colab": {
          "base_uri": "https://localhost:8080/"
        },
        "outputId": "63f27608-3e59-4a28-8626-5684a2a4ea46"
      },
      "execution_count": null,
      "outputs": [
        {
          "output_type": "execute_result",
          "data": {
            "text/plain": [
              "32033"
            ]
          },
          "metadata": {},
          "execution_count": 3
        }
      ]
    },
    {
      "cell_type": "code",
      "source": [
        "chars = sorted(set(''.join(words)))\n",
        "stoi = {s: i+1 for i,s in enumerate(chars)}\n",
        "\n",
        "stoi['.'] = 0\n",
        "itos = {i: s for s,i in stoi.items()}\n",
        "vocab_size = len(itos)\n",
        "print(itos)\n",
        "print(vocab_size)"
      ],
      "metadata": {
        "id": "jLRtfVAClUuv",
        "colab": {
          "base_uri": "https://localhost:8080/"
        },
        "outputId": "bf1965ef-5082-417c-9ef6-13e1f454b4e4"
      },
      "execution_count": null,
      "outputs": [
        {
          "output_type": "stream",
          "name": "stdout",
          "text": [
            "{1: 'a', 2: 'b', 3: 'c', 4: 'd', 5: 'e', 6: 'f', 7: 'g', 8: 'h', 9: 'i', 10: 'j', 11: 'k', 12: 'l', 13: 'm', 14: 'n', 15: 'o', 16: 'p', 17: 'q', 18: 'r', 19: 's', 20: 't', 21: 'u', 22: 'v', 23: 'w', 24: 'x', 25: 'y', 26: 'z', 0: '.'}\n",
            "27\n"
          ]
        }
      ]
    },
    {
      "cell_type": "code",
      "source": [
        "block_size = 3\n",
        "def build_dataset(words):\n",
        "\n",
        "  X, Y = [], []\n",
        "  for  w in words:\n",
        "    context = [0] * block_size # 3 dene nokte\n",
        "    for ch in w + '.':\n",
        "        ix = stoi[ch]\n",
        "        X.append(context)\n",
        "        Y.append(ix)\n",
        "        # print(''.join(itos[i]for i in context), '--->',itos[ix])\n",
        "        context = context[1:] + [ix]\n",
        "  X = torch.tensor(X)\n",
        "  Y = torch.tensor(Y)\n",
        "  print(X.shape,Y.shape)\n",
        "  return X,Y\n",
        "\n",
        "import random\n",
        "random.seed(42)\n",
        "random.shuffle(words)\n",
        "n1 = int(0.8*len(words))\n",
        "n2 = int(0.9*len(words))\n",
        "\n",
        "Xtr,Ytr = build_dataset(words[:n1])\n",
        "Xdev,Ydev = build_dataset(words[n1:n2])\n",
        "Xte,Yte = build_dataset(words[n2:])"
      ],
      "metadata": {
        "id": "mPrkbPjelnfw",
        "colab": {
          "base_uri": "https://localhost:8080/"
        },
        "outputId": "9e56937d-060b-4b72-fd4e-c2541d2f4d95"
      },
      "execution_count": null,
      "outputs": [
        {
          "output_type": "stream",
          "name": "stdout",
          "text": [
            "torch.Size([182625, 3]) torch.Size([182625])\n",
            "torch.Size([22655, 3]) torch.Size([22655])\n",
            "torch.Size([22866, 3]) torch.Size([22866])\n"
          ]
        }
      ]
    },
    {
      "cell_type": "code",
      "source": [
        "import torch\n",
        "\n",
        "# Define missing variables\n",
        "vocab_size = 27  # Example: Alphabet size\n",
        "block_size = 3   # Example: Input sequence length\n",
        "n_embd = 10\n",
        "n_hidden = 200\n",
        "\n",
        "# Initialize generator for reproducibility\n",
        "g = torch.Generator().manual_seed(42)\n",
        "\n",
        "# Parameter initialization\n",
        "C = torch.rand((vocab_size, n_embd), generator=g)  # Embedding matrix\n",
        "W1 = torch.randn((n_embd * block_size, n_hidden), generator=g) * (5 / 3) / (n_embd * block_size) ** 0.5\n",
        "b1 = torch.randn(n_hidden, generator=g) * 0.01\n",
        "W2 = torch.randn((n_hidden, vocab_size), generator=g) * 0.1\n",
        "b2 = torch.randn(vocab_size, generator=g)* 0 # Bias initialized to 0\n",
        "\n",
        "bngain= torch.ones((1,n_hidden))\n",
        "bnbias= torch.zeros((1,n_hidden))\n",
        "bnmean_running = torch.zeros((1,n_hidden))\n",
        "bnstd_running = torch.ones((1,n_hidden))\n",
        "# List of parameters for optimization\n",
        "parametrs = [C, W1, b1, W2, b2,bngain,bnbias]\n",
        "\n",
        "# Print total number of parameters\n",
        "print(f\"Total parameters: {sum(p.nelement() for p in parametrs)}\")\n",
        "\n",
        "# Set requires_grad = True for all parameters\n",
        "for p in parametrs:\n",
        "    p.requires_grad = True\n"
      ],
      "metadata": {
        "id": "4078KuNtmgvn",
        "colab": {
          "base_uri": "https://localhost:8080/"
        },
        "outputId": "0480d01b-1d97-49d6-ffd6-19530f1c1131"
      },
      "execution_count": null,
      "outputs": [
        {
          "output_type": "stream",
          "name": "stdout",
          "text": [
            "Total parameters: 12297\n"
          ]
        }
      ]
    },
    {
      "cell_type": "code",
      "source": [
        "vocab_size"
      ],
      "metadata": {
        "id": "FroWIA_lnErU",
        "colab": {
          "base_uri": "https://localhost:8080/"
        },
        "outputId": "053c13fb-4d45-41d6-e9fd-ce07cf30e36a"
      },
      "execution_count": null,
      "outputs": [
        {
          "output_type": "execute_result",
          "data": {
            "text/plain": [
              "27"
            ]
          },
          "metadata": {},
          "execution_count": 7
        }
      ]
    },
    {
      "cell_type": "code",
      "source": [
        "W2.shape"
      ],
      "metadata": {
        "id": "4bvrK4d1zL-1",
        "colab": {
          "base_uri": "https://localhost:8080/"
        },
        "outputId": "bed1dc21-e81e-471d-ea95-5d4d59d8a501"
      },
      "execution_count": null,
      "outputs": [
        {
          "output_type": "execute_result",
          "data": {
            "text/plain": [
              "torch.Size([200, 27])"
            ]
          },
          "metadata": {},
          "execution_count": 8
        }
      ]
    },
    {
      "cell_type": "code",
      "source": [
        "max_steps = 200000\n",
        "batch_size = 32\n",
        "lossi = []\n",
        "for i in range(max_steps):\n",
        "\n",
        "  ix = torch.randint(0, Xtr.shape[0], (batch_size,), generator=g)\n",
        "\n",
        "  Xb,Yb = Xtr[ix],Ytr[ix]\n",
        "\n",
        "  emb = C[Xb]\n",
        "  embcat = emb.view(emb.shape[0],-1)\n",
        "  hpreact = embcat @ W1 #+b1\n",
        "\n",
        "  bnmeani = hpreact.mean(0,keepdim = True)\n",
        "  bnstdi = hpreact.std(0,keepdim = True)\n",
        "  hpreact =bngain*(hpreact-bnmeani)/bnstdi + bnbias\n",
        "  with torch.no_grad():\n",
        "    bnmean_running = 0.999 *bnmean_running + 0.001*bnmeani\n",
        "    bnstd_running = 0.999 *bnstd_running + 0.001*bnstdi\n",
        "\n",
        "  h = torch.tanh(hpreact)\n",
        "  logits = h @ W2 + b2\n",
        "  loss = F.cross_entropy(logits,Yb)\n",
        "\n",
        "\n",
        "  for p in parametrs:\n",
        "    p.grad = None\n",
        "  loss.backward()\n",
        "\n",
        "  lr  = 0.1 if i <100000 else 0.01\n",
        "\n",
        "  for p in parametrs:\n",
        "    p.data += -lr *p.grad\n",
        "  if i % 10000 == 0 :\n",
        "    print(f'{i:7d}/{max_steps:7d}:{loss.item():.4f}')\n",
        "  lossi.append(loss.log10().item())\n",
        "\n"
      ],
      "metadata": {
        "id": "dHtKuqTZnjXY",
        "colab": {
          "base_uri": "https://localhost:8080/",
          "height": 211
        },
        "outputId": "824e4ffc-dec2-4472-a696-6c072777ff47"
      },
      "execution_count": null,
      "outputs": [
        {
          "output_type": "error",
          "ename": "TypeError",
          "evalue": "unsupported operand type(s) for *: 'float' and 'NoneType'",
          "traceback": [
            "\u001b[0;31m---------------------------------------------------------------------------\u001b[0m",
            "\u001b[0;31mTypeError\u001b[0m                                 Traceback (most recent call last)",
            "\u001b[0;32m<ipython-input-9-3c10cf61bc0d>\u001b[0m in \u001b[0;36m<cell line: 4>\u001b[0;34m()\u001b[0m\n\u001b[1;32m     31\u001b[0m \u001b[0;34m\u001b[0m\u001b[0m\n\u001b[1;32m     32\u001b[0m   \u001b[0;32mfor\u001b[0m \u001b[0mp\u001b[0m \u001b[0;32min\u001b[0m \u001b[0mparametrs\u001b[0m\u001b[0;34m:\u001b[0m\u001b[0;34m\u001b[0m\u001b[0;34m\u001b[0m\u001b[0m\n\u001b[0;32m---> 33\u001b[0;31m     \u001b[0mp\u001b[0m\u001b[0;34m.\u001b[0m\u001b[0mdata\u001b[0m \u001b[0;34m+=\u001b[0m \u001b[0;34m-\u001b[0m\u001b[0mlr\u001b[0m \u001b[0;34m*\u001b[0m\u001b[0mp\u001b[0m\u001b[0;34m.\u001b[0m\u001b[0mgrad\u001b[0m\u001b[0;34m\u001b[0m\u001b[0;34m\u001b[0m\u001b[0m\n\u001b[0m\u001b[1;32m     34\u001b[0m   \u001b[0;32mif\u001b[0m \u001b[0mi\u001b[0m \u001b[0;34m%\u001b[0m \u001b[0;36m10000\u001b[0m \u001b[0;34m==\u001b[0m \u001b[0;36m0\u001b[0m \u001b[0;34m:\u001b[0m\u001b[0;34m\u001b[0m\u001b[0;34m\u001b[0m\u001b[0m\n\u001b[1;32m     35\u001b[0m     \u001b[0mprint\u001b[0m\u001b[0;34m(\u001b[0m\u001b[0;34mf'{i:7d}/{max_steps:7d}:{loss.item():.4f}'\u001b[0m\u001b[0;34m)\u001b[0m\u001b[0;34m\u001b[0m\u001b[0;34m\u001b[0m\u001b[0m\n",
            "\u001b[0;31mTypeError\u001b[0m: unsupported operand type(s) for *: 'float' and 'NoneType'"
          ]
        }
      ]
    },
    {
      "cell_type": "code",
      "source": [
        "plt.figure(figsize = (10,20))\n",
        "plt.imshow(h.abs()>0.99,cmap = 'gray',interpolation='nearest')"
      ],
      "metadata": {
        "id": "cR0u5vcKubVR"
      },
      "execution_count": null,
      "outputs": []
    },
    {
      "cell_type": "code",
      "source": [
        "plt.hist(h.view(-1).tolist(),50);"
      ],
      "metadata": {
        "id": "k7koXzxBuRpj"
      },
      "execution_count": null,
      "outputs": []
    },
    {
      "cell_type": "code",
      "source": [
        "plt.plot(lossi)"
      ],
      "metadata": {
        "id": "OQcK-FPHpTQT"
      },
      "execution_count": null,
      "outputs": []
    },
    {
      "cell_type": "code",
      "source": [
        "with torch.no_grad():\n",
        "  emb  = C[Xtr]\n",
        "  embcat = emb.view(emb.shape[0],-1)\n",
        "  hpreact = embcat @ W1 +b1\n",
        "  bnmean = hpreact.mean(0,keepdim = True)\n",
        "  bnstd = hpreact.std(0,keepdim = True)"
      ],
      "metadata": {
        "id": "lqvBaJoAAFHg"
      },
      "execution_count": null,
      "outputs": []
    },
    {
      "cell_type": "code",
      "source": [],
      "metadata": {
        "id": "Pkm0XMC5JL05"
      },
      "execution_count": null,
      "outputs": []
    },
    {
      "cell_type": "code",
      "source": [
        "@torch.no_grad()\n",
        "def split_loss(split):\n",
        "    x, y = {\n",
        "        'train': (Xtr, Ytr),\n",
        "        'val': (Xdev, Ydev),\n",
        "        'test': (Xte, Yte)\n",
        "    }[split]\n",
        "    emb = C[x]  # (batch_size, block_size, n_embd)\n",
        "    embcat = emb.view(emb.shape[0], -1)  # (batch_size, n_embd * block_size)\n",
        "    hpreact = embcat @ W1 + b1  # (batch_size, n_hidden)\n",
        "    # hpreact =bngain * (hpreact-hpreact.mean(0,keepdim = True))/hpreact.std(0,keepdim = True) + bnbias\n",
        "    hpreact =bngain * (hpreact-bnmean_running)/bnstd_running + bnbias\n",
        "    h = torch.tanh(hpreact)      # Apply non-linearity\n",
        "    logits = h @ W2 + b2  # (batch_size, vocab_size)\n",
        "    loss = F.cross_entropy(logits, y)\n",
        "    print(split, loss.item())\n",
        "\n",
        "split_loss('train')\n",
        "split_loss('val')\n",
        "\n"
      ],
      "metadata": {
        "id": "2D9DqGe_qCzD"
      },
      "execution_count": null,
      "outputs": []
    },
    {
      "cell_type": "code",
      "source": [
        "g = torch.Generator().manual_seed(2147483647 + 10)\n",
        "\n",
        "for _ in range(20):\n",
        "\n",
        "    out = []\n",
        "    context = [0] * block_size\n",
        "    while True:\n",
        "      # forward pass the neural net\n",
        "      emb = C[torch.tensor([context])]\n",
        "      embcat = emb.view(emb.shape[0], -1)\n",
        "      hpreact = embcat @ W1 + b1\n",
        "      hpreact =bngain * (hpreact-bnmean_running)/bnstd_running + bnbias\n",
        "      h = torch.tanh(hpreact)      # Apply non-linearity\n",
        "      logits = h @ W2 + b2\n",
        "      probs = F.softmax(logits, dim=1)\n",
        "      ix = torch.multinomial(probs, num_samples=1, generator=g).item()\n",
        "      context = context[1:] + [ix]\n",
        "      out.append(ix)\n",
        "      if ix == 0:\n",
        "        break\n",
        "\n",
        "    print(''.join(itos[i] for i in out))"
      ],
      "metadata": {
        "id": "yvneteptr_tL"
      },
      "execution_count": null,
      "outputs": []
    },
    {
      "cell_type": "code",
      "source": [],
      "metadata": {
        "id": "A8TohmoJsUZU"
      },
      "execution_count": null,
      "outputs": []
    },
    {
      "cell_type": "code",
      "source": [
        "class Linear:\n",
        "  def __init__(self,fan_in,fan_out,bias = True):\n",
        "    self.weight = torch.randn((fan_in,fan_out), generator = g)/ fan_in**0.5\n",
        "    self.bias = torch.zeros(fan_out) if bias else None\n",
        "\n",
        "\n",
        "  def __call__(self,x):\n",
        "    self.out = x@ self.weight\n",
        "    if self.bias is not None:\n",
        "      self.out += self.bias\n",
        "    return self.out\n",
        "\n",
        "  def parametrs(self):\n",
        "    return [self.weight] + ([] if self.bias is None else [self.bias])\n",
        "\n",
        "\n",
        "class BatchNorm1d:\n",
        "  def __init__(self,dim,eps  =1e-5,momentum = 0.01):\n",
        "    self.eps = eps\n",
        "    self.momentum = momentum\n",
        "    self.training = True\n",
        "    self.gamma = torch.ones(dim)\n",
        "    self.beta = torch.zeros(dim)\n",
        "    self.running_mean = torch.zeros(dim)\n",
        "    self.running_var = torch.ones(dim)\n",
        "\n",
        "  def __call__(self,x):\n",
        "    if self.tarining:\n",
        "      xmean = x.mean(0,keepdim = True)\n",
        "      xvar = x.var(0,keepdim = True)\n",
        "    else:\n",
        "        xmean = self.running_mean\n",
        "        xvar = self.ruuning_var\n",
        "\n",
        "    xhat = (x-xmean)/torch.sqrt(xvar+self.eps)\n",
        "    self.out = self.gamma * xhat +self.beta\n",
        "\n",
        "    if self.training:\n",
        "      with torch.no_grad():\n",
        "        self.running_mean = (1-self.momentum) * self.running_mean + self. momentum * xmean\n",
        "        self.running_var = (1-self.momentum) * self.running_var + self. momentum * xvar\n",
        "    return self.fan_out\n",
        "\n",
        "  def parametrs(self):\n",
        "    return [self.gamma,self.beta]\n",
        "\n",
        "\n",
        "class Tanh:\n",
        "  def __call__(self,x):\n",
        "    self.out = torch.tanh(x)\n",
        "    return self.out\n",
        "\n",
        "  def parametrs(self):\n",
        "    return []\n",
        "\n",
        "\n",
        "n_embd  = 10\n",
        "n_hidden  = 100\n",
        "g = torch.Generator().manual_seed(42)\n",
        "\n",
        "C = torch.randn((vocab_size,n_embd),   generator = g)\n",
        "\n",
        "\n",
        "layers = [\n",
        "    Linear(n_embd*block_size,n_hidden),Tanh(),\n",
        "    Linear(n_hidden,n_hidden),Tanh(),\n",
        "    Linear(n_hidden,n_hidden),Tanh(),\n",
        "    Linear(n_hidden,n_hidden),Tanh(),\n",
        "    Linear(n_hidden,n_hidden),Tanh(),\n",
        "    Linear(n_hidden,vocab_size),\n",
        "]\n",
        "\n",
        "with  torch.no_grad():\n",
        "  layers[-1].weight *= 0.1\n",
        "  for layer in layers[:-1]:\n",
        "    if isinstance(layer,Linear):\n",
        "      layer.weight *= 5/3\n",
        "\n",
        "\n",
        "parametrs = [C] + [p for layer in layers for p in layer.parametrs()]\n",
        "print(sum(p.nelement() for p in parametrs))\n",
        "\n",
        "for p in parametrs:\n",
        "  p.requires_grad = True"
      ],
      "metadata": {
        "id": "jg7Mtk8zCygA"
      },
      "execution_count": null,
      "outputs": []
    },
    {
      "cell_type": "code",
      "source": [],
      "metadata": {
        "id": "xHLF2PtiN3gs"
      },
      "execution_count": null,
      "outputs": []
    }
  ]
}