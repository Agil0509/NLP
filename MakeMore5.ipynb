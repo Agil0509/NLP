{
  "nbformat": 4,
  "nbformat_minor": 0,
  "metadata": {
    "colab": {
      "provenance": [],
      "gpuType": "T4",
      "authorship_tag": "ABX9TyP0txfx4apLZEJcwltHUQdn",
      "include_colab_link": true
    },
    "kernelspec": {
      "name": "python3",
      "display_name": "Python 3"
    },
    "language_info": {
      "name": "python"
    },
    "accelerator": "GPU"
  },
  "cells": [
    {
      "cell_type": "markdown",
      "metadata": {
        "id": "view-in-github",
        "colab_type": "text"
      },
      "source": [
        "<a href=\"https://colab.research.google.com/github/Agil0509/NLP/blob/main/MakeMore5.ipynb\" target=\"_parent\"><img src=\"https://colab.research.google.com/assets/colab-badge.svg\" alt=\"Open In Colab\"/></a>"
      ]
    },
    {
      "cell_type": "code",
      "execution_count": 1,
      "metadata": {
        "id": "YOnmh3ysCUh9"
      },
      "outputs": [],
      "source": [
        "import torch\n",
        "import torch.nn.functional as F\n",
        "import matplotlib.pyplot as plt"
      ]
    },
    {
      "cell_type": "code",
      "source": [
        "!wget https://raw.githubusercontent.com/Rstam59/TaskDataRepoForStudents/refs/heads/main/names.txt"
      ],
      "metadata": {
        "colab": {
          "base_uri": "https://localhost:8080/"
        },
        "id": "pY5zK1K3CqLM",
        "outputId": "8929fa6d-92ec-4409-fcdc-4ab8f7ff24a1"
      },
      "execution_count": 2,
      "outputs": [
        {
          "output_type": "stream",
          "name": "stdout",
          "text": [
            "--2024-10-30 12:21:08--  https://raw.githubusercontent.com/Rstam59/TaskDataRepoForStudents/refs/heads/main/names.txt\n",
            "Resolving raw.githubusercontent.com (raw.githubusercontent.com)... 185.199.109.133, 185.199.111.133, 185.199.108.133, ...\n",
            "Connecting to raw.githubusercontent.com (raw.githubusercontent.com)|185.199.109.133|:443... connected.\n",
            "HTTP request sent, awaiting response... 200 OK\n",
            "Length: 228145 (223K) [text/plain]\n",
            "Saving to: ‘names.txt’\n",
            "\n",
            "names.txt           100%[===================>] 222.80K  --.-KB/s    in 0.02s   \n",
            "\n",
            "2024-10-30 12:21:09 (9.92 MB/s) - ‘names.txt’ saved [228145/228145]\n",
            "\n"
          ]
        }
      ]
    },
    {
      "cell_type": "code",
      "source": [
        "words = open('/content/names.txt','r').read().splitlines()\n",
        "print(len(words))\n",
        "print(max(len(w) for w in words))\n",
        "print(words[:8])"
      ],
      "metadata": {
        "colab": {
          "base_uri": "https://localhost:8080/"
        },
        "id": "uUjmilEmCzLG",
        "outputId": "d98532b8-3cc1-458e-9636-2fb6455023ee"
      },
      "execution_count": 3,
      "outputs": [
        {
          "output_type": "stream",
          "name": "stdout",
          "text": [
            "32033\n",
            "15\n",
            "['emma', 'olivia', 'ava', 'isabella', 'sophia', 'charlotte', 'mia', 'amelia']\n"
          ]
        }
      ]
    },
    {
      "cell_type": "code",
      "source": [
        "chars = sorted(set(''.join(words)))\n",
        "stoi = {s: i+1 for i,s in enumerate(chars)}\n",
        "\n",
        "stoi['.'] = 0\n",
        "itos = {i: s for s,i in stoi.items()}\n",
        "vocab_size = len(itos)\n",
        "print(itos)\n",
        "print(vocab_size)"
      ],
      "metadata": {
        "colab": {
          "base_uri": "https://localhost:8080/"
        },
        "id": "qj5ASolCDfUo",
        "outputId": "2f0486c8-2b10-441c-ea8c-8ad2178ebe22"
      },
      "execution_count": 4,
      "outputs": [
        {
          "output_type": "stream",
          "name": "stdout",
          "text": [
            "{1: 'a', 2: 'b', 3: 'c', 4: 'd', 5: 'e', 6: 'f', 7: 'g', 8: 'h', 9: 'i', 10: 'j', 11: 'k', 12: 'l', 13: 'm', 14: 'n', 15: 'o', 16: 'p', 17: 'q', 18: 'r', 19: 's', 20: 't', 21: 'u', 22: 'v', 23: 'w', 24: 'x', 25: 'y', 26: 'z', 0: '.'}\n",
            "27\n"
          ]
        }
      ]
    },
    {
      "cell_type": "code",
      "source": [
        "import random\n",
        "random.seed(42)\n",
        "random.shuffle(words)"
      ],
      "metadata": {
        "id": "TEjXjf0HDwLE"
      },
      "execution_count": 5,
      "outputs": []
    },
    {
      "cell_type": "code",
      "source": [
        "block_size = 8\n",
        "\n",
        "def build_dataset(words):\n",
        "  X,Y = [],[]\n",
        "\n",
        "  for w in words:\n",
        "    context = [0]*block_size\n",
        "    for ch in w+'.':\n",
        "      ix = stoi[ch]\n",
        "      X.append(context)\n",
        "      Y.append(ix)\n",
        "      context = context[1:]+[ix]\n",
        "\n",
        "  X = torch.tensor(X)\n",
        "  Y = torch.tensor(Y)\n",
        "  print(X.shape,Y.shape)\n",
        "  return X,Y\n",
        "\n",
        "n1 = int(0.8*(len(words)))\n",
        "n2 = int(0.9*(len(words)))\n",
        "\n",
        "Xtr, Ytr = build_dataset(words[:n1])\n",
        "Xdev, Ydev = build_dataset(words[n1:n2])\n",
        "Xte, Yte = build_dataset(words[n2:])"
      ],
      "metadata": {
        "colab": {
          "base_uri": "https://localhost:8080/"
        },
        "id": "3GUpz2K7EDHP",
        "outputId": "adf688b1-bb26-46bd-841c-79f2de0843a1"
      },
      "execution_count": 72,
      "outputs": [
        {
          "output_type": "stream",
          "name": "stdout",
          "text": [
            "torch.Size([182625, 8]) torch.Size([182625])\n",
            "torch.Size([22655, 8]) torch.Size([22655])\n",
            "torch.Size([22866, 8]) torch.Size([22866])\n"
          ]
        }
      ]
    },
    {
      "cell_type": "code",
      "source": [
        "for x,y in zip(Xtr[:20],Ytr[:20]):\n",
        "  print(''.join(itos[ix.item()] for ix in x),'---->',itos[y.item()])"
      ],
      "metadata": {
        "colab": {
          "base_uri": "https://localhost:8080/"
        },
        "id": "Kuc2jqWcFb1X",
        "outputId": "0634eec9-45ca-4548-9373-a8a9687d0cab"
      },
      "execution_count": 73,
      "outputs": [
        {
          "output_type": "stream",
          "name": "stdout",
          "text": [
            "........ ----> y\n",
            ".......y ----> u\n",
            "......yu ----> h\n",
            ".....yuh ----> e\n",
            "....yuhe ----> n\n",
            "...yuhen ----> g\n",
            "..yuheng ----> .\n",
            "........ ----> d\n",
            ".......d ----> i\n",
            "......di ----> o\n",
            ".....dio ----> n\n",
            "....dion ----> d\n",
            "...diond ----> r\n",
            "..diondr ----> e\n",
            ".diondre ----> .\n",
            "........ ----> x\n",
            ".......x ----> a\n",
            "......xa ----> v\n",
            ".....xav ----> i\n",
            "....xavi ----> e\n"
          ]
        }
      ]
    },
    {
      "cell_type": "code",
      "source": [
        "class Linear:\n",
        "\n",
        "  def __init__(self,fan_in,fan_out,bias = True):\n",
        "    self.weight = torch.randn((fan_in,fan_out))/fan_in**0.5\n",
        "    self.bias= torch.zeros(fan_out) if bias else None\\\n",
        "\n",
        "  def __call__(self,x):\n",
        "    self.out = x @ self.weight\n",
        "    if self.bias is not None:\n",
        "      self.out+= self.bias\n",
        "    return self.out\n",
        "\n",
        "  def parameters(self):\n",
        "    return [self.weight]+([] if self.bias is None else [self.bias])\n",
        "\n",
        "\n",
        "\n",
        "class BatchNorm1d:\n",
        "  def __init__(self,dim, eps = 1e-5,mommentum = 0.1):\n",
        "    self.eps = eps\n",
        "    self.mommentum=mommentum\n",
        "    self.training = True\n",
        "    self.gamma = torch.ones(dim)\n",
        "    self.beta = torch.zeros(dim)\n",
        "    self.running_mean = torch.zeros(dim)\n",
        "    self.running_var = torch.ones(dim)\n",
        "\n",
        "  def __call__(self,x):\n",
        "    if self.training:\n",
        "      if x.ndim ==2:\n",
        "        dim = 0\n",
        "      elif x.ndim ==3:\n",
        "        dim = (0,1)\n",
        "      xmean = x.mean(dim,keepdim = True)\n",
        "      xvar = x.var(dim,keepdim = True)\n",
        "    else:\n",
        "      xmean = self.running_mean\n",
        "      xvar = self.running_var\n",
        "\n",
        "    xhat = (x-xmean)/torch.sqrt(xvar+self.eps)\n",
        "    self.out = self.gamma * xhat +self.beta\n",
        "    if self.training:\n",
        "      with torch.no_grad():\n",
        "        self.running_mean = (1-self.mommentum) * self.running_mean + self.mommentum * xmean\n",
        "        self.running_var = (1-self.mommentum) * self.running_var + self.mommentum * xvar\n",
        "    return self.out\n",
        "\n",
        "  def parameters(self):\n",
        "    return [self.gamma,self.beta]\n",
        "\n",
        "class Tanh:\n",
        "  def __call__(self,x):\n",
        "    self.out = torch.tanh(x)\n",
        "    return self.out\n",
        "  def parameters(self):\n",
        "    return []\n",
        "\n",
        "\n",
        "class Embedding:\n",
        "  def __init__(self,num_embeddings,embedding_dim):\n",
        "    self.weight = torch.randn((num_embeddings,embedding_dim))\n",
        "\n",
        "  def __call__(self,IX):\n",
        "    self.out = self.weight[IX]\n",
        "    return self.out\n",
        "  def parameters(self):\n",
        "    return [self.weight]\n",
        "\n",
        "class Flatten:\n",
        "\n",
        "  def __call__(self,X):\n",
        "    self.out = X.view(X.shape[0],-1)\n",
        "    return self.out\n",
        "  def parameters(self):\n",
        "    return []\n",
        "\n",
        "\n",
        "class Sequential:\n",
        "\n",
        "  def __init__(self,layers):\n",
        "    self.layers = layers\n",
        "\n",
        "  def __call__(self,x):\n",
        "    for layer in self.layers:\n",
        "      x = layer(x)\n",
        "    self.out = x\n",
        "    return self.out\n",
        "  def parameters(self):\n",
        "    return [p for layer in self.layers for p in layer.parameters()]\n",
        "\n",
        "\n",
        "class FlattenConsecutive:\n",
        "\n",
        "  def __init__(self,n):\n",
        "    self.n= n\n",
        "\n",
        "  def __call__(self,x):\n",
        "    B,T,C= x.shape\n",
        "    x = x.view(B,T//self.n,C*self.n)\n",
        "    if x.shape[1] ==1:\n",
        "      x = x.squeeze(1)\n",
        "    self.out = x\n",
        "    return self.out\n",
        "\n",
        "  def parameters(self):\n",
        "    return []\n",
        "\n",
        "\n"
      ],
      "metadata": {
        "id": "7cKmcyGZG4lN"
      },
      "execution_count": 88,
      "outputs": []
    },
    {
      "cell_type": "code",
      "source": [
        "n_embd =10\n",
        "n_hidden = 200\n",
        "\n",
        "# C = torch.randn((vocab_size,n_embd))\n",
        "\n",
        "model = Sequential([\n",
        "    Embedding(vocab_size,n_embd),\n",
        "    FlattenConsecutive(2),Linear(n_embd*2,n_hidden,bias = False),BatchNorm1d(n_hidden),Tanh(),\n",
        "    FlattenConsecutive(2),Linear(n_hidden*2,n_hidden,bias = False),BatchNorm1d(n_hidden),Tanh(),\n",
        "    FlattenConsecutive(2),Linear(n_hidden*2,n_hidden,bias = False),BatchNorm1d(n_hidden),Tanh(),\n",
        "    Linear(n_hidden,vocab_size),])\n",
        "\n",
        "with torch.no_grad():\n",
        "  model.layers[-1].weight *= 0.1\n",
        "\n",
        "parameters =  model.parameters()\n",
        "print(sum(p.nelement() for p in parameters))\n",
        "\n",
        "\n",
        "for p in parameters:\n",
        "  p.requires_grad = True"
      ],
      "metadata": {
        "colab": {
          "base_uri": "https://localhost:8080/"
        },
        "id": "qQsvpruVKY4p",
        "outputId": "7dbafc2e-c366-45a0-a92d-e2cbd0e853b6"
      },
      "execution_count": 90,
      "outputs": [
        {
          "output_type": "stream",
          "name": "stdout",
          "text": [
            "170897\n"
          ]
        }
      ]
    },
    {
      "cell_type": "code",
      "source": [
        "max_steps = 200000\n",
        "batch_size = 32\n",
        "lossi = []\n",
        "\n",
        "for i in range(max_steps):\n",
        "  ix  = torch.randint(0,Xtr.shape[0],(batch_size,))\n",
        "  Xb,Yb = Xtr[ix],Ytr[ix]\n",
        "\n",
        "  # emb = C[Xb]\n",
        "  # x = emb.view(emb.shape[0],-1)\n",
        "  logits = model(Xb)\n",
        "  loss = F.cross_entropy(logits,Yb)\n",
        "  # for layer in m:\n",
        "  #   x = layer(x)\n",
        "\n",
        "  for p in parameters:\n",
        "    p.grad = None\n",
        "  loss.backward()\n",
        "\n",
        "  lr = 0.1 if i < 150000 else 0.01\n",
        "  for p in parameters:\n",
        "    p.data +=-lr * p.grad\n",
        "\n",
        "\n",
        "  if i % 10000 ==0:\n",
        "    print(f'{i:7d}/{max_steps:7d}:{loss.item():.4f}')\n",
        "  lossi.append(loss.log10().item())\n",
        "\n"
      ],
      "metadata": {
        "colab": {
          "base_uri": "https://localhost:8080/"
        },
        "id": "22wcxhk9R205",
        "outputId": "acdf2754-5bad-4f4c-e373-0f0d331f728f"
      },
      "execution_count": 91,
      "outputs": [
        {
          "output_type": "stream",
          "name": "stdout",
          "text": [
            "      0/ 200000:3.2820\n",
            "  10000/ 200000:1.8969\n",
            "  20000/ 200000:2.3751\n",
            "  30000/ 200000:2.1530\n",
            "  40000/ 200000:1.8079\n",
            "  50000/ 200000:1.9577\n",
            "  60000/ 200000:1.6485\n",
            "  70000/ 200000:2.1912\n",
            "  80000/ 200000:2.0069\n",
            "  90000/ 200000:2.1741\n",
            " 100000/ 200000:2.1241\n",
            " 110000/ 200000:1.7393\n",
            " 120000/ 200000:2.0008\n",
            " 130000/ 200000:2.2306\n",
            " 140000/ 200000:1.9774\n",
            " 150000/ 200000:2.3279\n",
            " 160000/ 200000:1.8401\n",
            " 170000/ 200000:1.6667\n",
            " 180000/ 200000:2.0141\n",
            " 190000/ 200000:1.8032\n"
          ]
        }
      ]
    },
    {
      "cell_type": "code",
      "source": [
        "plt.plot(lossi)"
      ],
      "metadata": {
        "colab": {
          "base_uri": "https://localhost:8080/",
          "height": 447
        },
        "id": "cbEkqPW9rUHr",
        "outputId": "a2940eb3-ed6c-4d26-f494-906c6f1448c0"
      },
      "execution_count": 92,
      "outputs": [
        {
          "output_type": "execute_result",
          "data": {
            "text/plain": [
              "[<matplotlib.lines.Line2D at 0x7a0450e64cd0>]"
            ]
          },
          "metadata": {},
          "execution_count": 92
        },
        {
          "output_type": "display_data",
          "data": {
            "text/plain": [
              "<Figure size 640x480 with 1 Axes>"
            ],
            "image/png": "[encoded data removed]"
          },
          "metadata": {}
        }
      ]
    },
    {
      "cell_type": "code",
      "source": [
        "plt.plot(torch.tensor(lossi).view(-1,1000).mean(1))"
      ],
      "metadata": {
        "colab": {
          "base_uri": "https://localhost:8080/",
          "height": 447
        },
        "id": "Y3BBvyEosdT6",
        "outputId": "75495e56-1efe-4f90-d02a-ad6a003238ea"
      },
      "execution_count": 93,
      "outputs": [
        {
          "output_type": "execute_result",
          "data": {
            "text/plain": [
              "[<matplotlib.lines.Line2D at 0x7a0450b17880>]"
            ]
          },
          "metadata": {},
          "execution_count": 93
        },
        {
          "output_type": "display_data",
          "data": {
            "text/plain": [
              "<Figure size 640x480 with 1 Axes>"
            ],
            "image/png": "[encoded data removed]"
          },
          "metadata": {}
        }
      ]
    },
    {
      "cell_type": "code",
      "source": [
        "for layer in model.layers:\n",
        "  layer.training = False\n"
      ],
      "metadata": {
        "id": "uPZ-HzYfUEzP"
      },
      "execution_count": 94,
      "outputs": []
    },
    {
      "cell_type": "code",
      "source": [
        "@torch.no_grad()\n",
        "def split_loss(split):\n",
        "    x, y = {\n",
        "        'train': (Xtr, Ytr),\n",
        "        'val': (Xdev, Ydev),\n",
        "        'test': (Xte, Yte)\n",
        "    }[split]\n",
        "    # emb = C[x]  # (batch_size, block_size, n_embd)\n",
        "    # x = emb.view(emb.shape[0],-1)\n",
        "\n",
        "    logits = model(x)\n",
        "    loss = F.cross_entropy(logits,y)\n",
        "\n",
        "    # # for layer in layers:\n",
        "    # #   x = layer(x)\n",
        "    # loss = F.cross_entropy(x, y)\n",
        "    print(split, loss.item())\n",
        "\n",
        "split_loss('train')\n",
        "split_loss('val')"
      ],
      "metadata": {
        "colab": {
          "base_uri": "https://localhost:8080/"
        },
        "id": "duSyRns8UvVR",
        "outputId": "3d05d8ee-8108-4ae0-cd9a-94eba2de7123"
      },
      "execution_count": 95,
      "outputs": [
        {
          "output_type": "stream",
          "name": "stdout",
          "text": [
            "train 1.7332615852355957\n",
            "val 1.9871954917907715\n"
          ]
        }
      ]
    },
    {
      "cell_type": "code",
      "source": [
        "for _ in range(20):\n",
        "\n",
        "    out = []\n",
        "    context = [0] * block_size\n",
        "    while True:\n",
        "        # emb = C[torch.tensor([context])]\n",
        "        # x = emb.view(emb.shape[0], -1)\n",
        "        x = torch.tensor([context])\n",
        "\n",
        "        logits = model(x)\n",
        "        probs = F.softmax(logits, dim = 1)\n",
        "        ix = torch.multinomial(probs, num_samples = 1).item()\n",
        "        context = context[1:] + [ix]\n",
        "        out.append(ix)\n",
        "        if ix == 0:\n",
        "            break\n",
        "\n",
        "    print(''.join(itos[i] for i in out))"
      ],
      "metadata": {
        "colab": {
          "base_uri": "https://localhost:8080/"
        },
        "id": "LaA9tsCHVADC",
        "outputId": "524c37e6-8f6a-489d-b8bf-bad806030853"
      },
      "execution_count": 96,
      "outputs": [
        {
          "output_type": "stream",
          "name": "stdout",
          "text": [
            "rionna.\n",
            "karen.\n",
            "androwni.\n",
            "yidee.\n",
            "josiyah.\n",
            "dhyrn.\n",
            "markemberlyn.\n",
            "athalom.\n",
            "kamerah.\n",
            "khahita.\n",
            "yuxi.\n",
            "jadence.\n",
            "emerlynn.\n",
            "david.\n",
            "lyric.\n",
            "huml.\n",
            "issak.\n",
            "jayne.\n",
            "augustin.\n",
            "tilon.\n"
          ]
        }
      ]
    },
    {
      "cell_type": "code",
      "source": [],
      "metadata": {
        "id": "YT4cs14sXLRV"
      },
      "execution_count": 96,
      "outputs": []
    },
    {
      "cell_type": "code",
      "source": [
        "ix = torch.randint(0,Xtr.shape[0],(4,))\n",
        "Xb,Yb = Xtr[ix],Ytr[ix]\n",
        "logits - model(Xb)\n",
        "Xb"
      ],
      "metadata": {
        "colab": {
          "base_uri": "https://localhost:8080/"
        },
        "id": "QRDjiCb3ioJW",
        "outputId": "f001d118-76c4-4867-9303-3dc08b44e313"
      },
      "execution_count": 97,
      "outputs": [
        {
          "output_type": "execute_result",
          "data": {
            "text/plain": [
              "tensor([[ 0,  0,  0,  0,  0,  0,  0,  0],\n",
              "        [10,  1, 13,  1, 18,  9,  1,  8],\n",
              "        [ 0,  0,  0, 10, 15, 21, 18,  4],\n",
              "        [ 0,  0,  0,  0,  0,  0,  0, 12]])"
            ]
          },
          "metadata": {},
          "execution_count": 97
        }
      ]
    },
    {
      "cell_type": "code",
      "source": [
        "model.layers[0].out.shape"
      ],
      "metadata": {
        "colab": {
          "base_uri": "https://localhost:8080/"
        },
        "id": "ZWMv7Ievi3by",
        "outputId": "d8fbb39a-8301-40dc-9ab7-e1643f19c7de"
      },
      "execution_count": 98,
      "outputs": [
        {
          "output_type": "execute_result",
          "data": {
            "text/plain": [
              "torch.Size([4, 8, 10])"
            ]
          },
          "metadata": {},
          "execution_count": 98
        }
      ]
    },
    {
      "cell_type": "code",
      "source": [
        "model.layers[1].out.shape"
      ],
      "metadata": {
        "colab": {
          "base_uri": "https://localhost:8080/"
        },
        "id": "Kc34jq6Ki8O8",
        "outputId": "257f31c6-1325-423c-da02-9c7a1a698ee1"
      },
      "execution_count": 99,
      "outputs": [
        {
          "output_type": "execute_result",
          "data": {
            "text/plain": [
              "torch.Size([4, 4, 20])"
            ]
          },
          "metadata": {},
          "execution_count": 99
        }
      ]
    },
    {
      "cell_type": "code",
      "source": [
        "model.layers[2].out.shape"
      ],
      "metadata": {
        "colab": {
          "base_uri": "https://localhost:8080/"
        },
        "id": "CVKLmRMjkjIi",
        "outputId": "a9cbd1c1-733d-4136-bfa1-e538afd5a4ce"
      },
      "execution_count": 100,
      "outputs": [
        {
          "output_type": "execute_result",
          "data": {
            "text/plain": [
              "torch.Size([4, 4, 200])"
            ]
          },
          "metadata": {},
          "execution_count": 100
        }
      ]
    },
    {
      "cell_type": "code",
      "source": [
        "e  = torch.randn(4,8,10)\n",
        "explicit = torch.cat([e[:,::2,:],e[:,1::2,:]], dim = 2)"
      ],
      "metadata": {
        "id": "EVaRYlAGkmia"
      },
      "execution_count": 101,
      "outputs": []
    },
    {
      "cell_type": "code",
      "source": [
        "for layer in model.layers:\n",
        "  print(layer.__class__.__name__, ':',tuple(layer.out.shape))"
      ],
      "metadata": {
        "colab": {
          "base_uri": "https://localhost:8080/"
        },
        "id": "6BVi-ZW1ms2P",
        "outputId": "dabac3d7-4a07-4b9a-fcbb-37f9b4d0c78b"
      },
      "execution_count": 102,
      "outputs": [
        {
          "output_type": "stream",
          "name": "stdout",
          "text": [
            "Embedding : (4, 8, 10)\n",
            "FlattenConsecutive : (4, 4, 20)\n",
            "Linear : (4, 4, 200)\n",
            "BatchNorm1d : (4, 4, 200)\n",
            "Tanh : (4, 4, 200)\n",
            "FlattenConsecutive : (4, 2, 400)\n",
            "Linear : (4, 2, 200)\n",
            "BatchNorm1d : (4, 2, 200)\n",
            "Tanh : (4, 2, 200)\n",
            "FlattenConsecutive : (4, 400)\n",
            "Linear : (4, 200)\n",
            "BatchNorm1d : (4, 200)\n",
            "Tanh : (4, 200)\n",
            "Linear : (4, 27)\n"
          ]
        }
      ]
    },
    {
      "cell_type": "code",
      "source": [
        "e = torch.randn(32,4,68)\n",
        "emean = e.mean(0,keepdim = True)\n",
        "evar = e.var(0,keepdim = True)\n",
        "ehat = (e-emean)/torch.sqrt(evar -1e-5)\n",
        "ehat.shape"
      ],
      "metadata": {
        "colab": {
          "base_uri": "https://localhost:8080/"
        },
        "id": "lssMK2WqnBXC",
        "outputId": "425db03f-12ce-45cf-b5be-3a1d3e71fd0d"
      },
      "execution_count": 103,
      "outputs": [
        {
          "output_type": "execute_result",
          "data": {
            "text/plain": [
              "torch.Size([32, 4, 68])"
            ]
          },
          "metadata": {},
          "execution_count": 103
        }
      ]
    },
    {
      "cell_type": "code",
      "source": [],
      "metadata": {
        "id": "sZZLY6_pnZxc"
      },
      "execution_count": 103,
      "outputs": []
    }
  ]
}